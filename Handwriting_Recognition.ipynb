{
 "cells": [
  {
   "cell_type": "markdown",
   "id": "1a681f86-dd1d-40d0-9d2d-eb811b163486",
   "metadata": {},
   "source": [
    "# Handwriting Recognition: <br> World Vision Project\n",
    "\n",
    "### Camilo Salazar <br> October 7th 2024"
   ]
  },
  {
   "cell_type": "code",
   "execution_count": 1,
   "id": "4f364ef3-d93d-4a86-8d8b-a28da25818cd",
   "metadata": {},
   "outputs": [],
   "source": [
    "import numpy as np\n",
    "import pandas as pd\n",
    "import matplotlib.pyplot as plt\n",
    "import cv2\n",
    "\n",
    "import tensorflow as tf\n",
    "from tensorflow.keras.models import Sequential\n",
    "from tensorflow.keras.layers import Conv2D, MaxPooling2D, Flatten,Dense, Dropout"
   ]
  },
  {
   "cell_type": "markdown",
   "id": "9a1598a8-ab9a-49e8-9a98-9269d993a113",
   "metadata": {},
   "source": [
    "# Data Cleaning"
   ]
  },
  {
   "cell_type": "code",
   "execution_count": 2,
   "id": "9b48a218-901b-4c86-a63b-e1e6eff50e4b",
   "metadata": {},
   "outputs": [],
   "source": [
    "# load Data\n",
    "train = pd.read_csv('data/written_name_train_v2.csv')\n",
    "validation = pd.read_csv('data/written_name_validation_v2.csv')"
   ]
  },
  {
   "cell_type": "code",
   "execution_count": 3,
   "id": "fc967df4-5b34-4cf6-9f89-bae2ff4c3a81",
   "metadata": {},
   "outputs": [
    {
     "data": {
      "text/html": [
       "<div>\n",
       "<style scoped>\n",
       "    .dataframe tbody tr th:only-of-type {\n",
       "        vertical-align: middle;\n",
       "    }\n",
       "\n",
       "    .dataframe tbody tr th {\n",
       "        vertical-align: top;\n",
       "    }\n",
       "\n",
       "    .dataframe thead th {\n",
       "        text-align: right;\n",
       "    }\n",
       "</style>\n",
       "<table border=\"1\" class=\"dataframe\">\n",
       "  <thead>\n",
       "    <tr style=\"text-align: right;\">\n",
       "      <th></th>\n",
       "      <th>FILENAME</th>\n",
       "      <th>IDENTITY</th>\n",
       "    </tr>\n",
       "  </thead>\n",
       "  <tbody>\n",
       "    <tr>\n",
       "      <th>0</th>\n",
       "      <td>TRAIN_00001.jpg</td>\n",
       "      <td>BALTHAZAR</td>\n",
       "    </tr>\n",
       "    <tr>\n",
       "      <th>1</th>\n",
       "      <td>TRAIN_00002.jpg</td>\n",
       "      <td>SIMON</td>\n",
       "    </tr>\n",
       "    <tr>\n",
       "      <th>2</th>\n",
       "      <td>TRAIN_00003.jpg</td>\n",
       "      <td>BENES</td>\n",
       "    </tr>\n",
       "    <tr>\n",
       "      <th>3</th>\n",
       "      <td>TRAIN_00004.jpg</td>\n",
       "      <td>LA LOVE</td>\n",
       "    </tr>\n",
       "    <tr>\n",
       "      <th>4</th>\n",
       "      <td>TRAIN_00005.jpg</td>\n",
       "      <td>DAPHNE</td>\n",
       "    </tr>\n",
       "    <tr>\n",
       "      <th>5</th>\n",
       "      <td>TRAIN_00006.jpg</td>\n",
       "      <td>LUCIE</td>\n",
       "    </tr>\n",
       "    <tr>\n",
       "      <th>6</th>\n",
       "      <td>TRAIN_00007.jpg</td>\n",
       "      <td>NASSIM</td>\n",
       "    </tr>\n",
       "    <tr>\n",
       "      <th>7</th>\n",
       "      <td>TRAIN_00008.jpg</td>\n",
       "      <td>ASSRAOUI</td>\n",
       "    </tr>\n",
       "    <tr>\n",
       "      <th>8</th>\n",
       "      <td>TRAIN_00009.jpg</td>\n",
       "      <td>LAVIAN</td>\n",
       "    </tr>\n",
       "    <tr>\n",
       "      <th>9</th>\n",
       "      <td>TRAIN_00010.jpg</td>\n",
       "      <td>MAEVA</td>\n",
       "    </tr>\n",
       "  </tbody>\n",
       "</table>\n",
       "</div>"
      ],
      "text/plain": [
       "          FILENAME   IDENTITY\n",
       "0  TRAIN_00001.jpg  BALTHAZAR\n",
       "1  TRAIN_00002.jpg      SIMON\n",
       "2  TRAIN_00003.jpg      BENES\n",
       "3  TRAIN_00004.jpg    LA LOVE\n",
       "4  TRAIN_00005.jpg     DAPHNE\n",
       "5  TRAIN_00006.jpg      LUCIE\n",
       "6  TRAIN_00007.jpg     NASSIM\n",
       "7  TRAIN_00008.jpg   ASSRAOUI\n",
       "8  TRAIN_00009.jpg     LAVIAN\n",
       "9  TRAIN_00010.jpg      MAEVA"
      ]
     },
     "execution_count": 3,
     "metadata": {},
     "output_type": "execute_result"
    }
   ],
   "source": [
    "train.head(10)"
   ]
  },
  {
   "cell_type": "code",
   "execution_count": 4,
   "id": "1c4f51e0-7b47-48be-ba2f-d9cd75adc03f",
   "metadata": {},
   "outputs": [
    {
     "data": {
      "text/html": [
       "<div>\n",
       "<style scoped>\n",
       "    .dataframe tbody tr th:only-of-type {\n",
       "        vertical-align: middle;\n",
       "    }\n",
       "\n",
       "    .dataframe tbody tr th {\n",
       "        vertical-align: top;\n",
       "    }\n",
       "\n",
       "    .dataframe thead th {\n",
       "        text-align: right;\n",
       "    }\n",
       "</style>\n",
       "<table border=\"1\" class=\"dataframe\">\n",
       "  <thead>\n",
       "    <tr style=\"text-align: right;\">\n",
       "      <th></th>\n",
       "      <th>FILENAME</th>\n",
       "      <th>IDENTITY</th>\n",
       "    </tr>\n",
       "  </thead>\n",
       "  <tbody>\n",
       "    <tr>\n",
       "      <th>0</th>\n",
       "      <td>VALIDATION_0001.jpg</td>\n",
       "      <td>BILEL</td>\n",
       "    </tr>\n",
       "    <tr>\n",
       "      <th>1</th>\n",
       "      <td>VALIDATION_0002.jpg</td>\n",
       "      <td>LAUMIONIER</td>\n",
       "    </tr>\n",
       "    <tr>\n",
       "      <th>2</th>\n",
       "      <td>VALIDATION_0003.jpg</td>\n",
       "      <td>LEA</td>\n",
       "    </tr>\n",
       "    <tr>\n",
       "      <th>3</th>\n",
       "      <td>VALIDATION_0004.jpg</td>\n",
       "      <td>JEAN-ROCH</td>\n",
       "    </tr>\n",
       "    <tr>\n",
       "      <th>4</th>\n",
       "      <td>VALIDATION_0005.jpg</td>\n",
       "      <td>RUPP</td>\n",
       "    </tr>\n",
       "    <tr>\n",
       "      <th>5</th>\n",
       "      <td>VALIDATION_0006.jpg</td>\n",
       "      <td>UNREADABLE</td>\n",
       "    </tr>\n",
       "    <tr>\n",
       "      <th>6</th>\n",
       "      <td>VALIDATION_0007.jpg</td>\n",
       "      <td>PICHON</td>\n",
       "    </tr>\n",
       "    <tr>\n",
       "      <th>7</th>\n",
       "      <td>VALIDATION_0008.jpg</td>\n",
       "      <td>DANIEL</td>\n",
       "    </tr>\n",
       "    <tr>\n",
       "      <th>8</th>\n",
       "      <td>VALIDATION_0009.jpg</td>\n",
       "      <td>JEREMY</td>\n",
       "    </tr>\n",
       "    <tr>\n",
       "      <th>9</th>\n",
       "      <td>VALIDATION_0010.jpg</td>\n",
       "      <td>JEAN-MICHEL</td>\n",
       "    </tr>\n",
       "  </tbody>\n",
       "</table>\n",
       "</div>"
      ],
      "text/plain": [
       "              FILENAME     IDENTITY\n",
       "0  VALIDATION_0001.jpg        BILEL\n",
       "1  VALIDATION_0002.jpg   LAUMIONIER\n",
       "2  VALIDATION_0003.jpg          LEA\n",
       "3  VALIDATION_0004.jpg    JEAN-ROCH\n",
       "4  VALIDATION_0005.jpg         RUPP\n",
       "5  VALIDATION_0006.jpg   UNREADABLE\n",
       "6  VALIDATION_0007.jpg       PICHON\n",
       "7  VALIDATION_0008.jpg       DANIEL\n",
       "8  VALIDATION_0009.jpg       JEREMY\n",
       "9  VALIDATION_0010.jpg  JEAN-MICHEL"
      ]
     },
     "execution_count": 4,
     "metadata": {},
     "output_type": "execute_result"
    }
   ],
   "source": [
    "validation.head(10)"
   ]
  },
  {
   "cell_type": "code",
   "execution_count": 5,
   "id": "7d943568-8d8a-4954-bff9-c83dd7811113",
   "metadata": {},
   "outputs": [
    {
     "name": "stdout",
     "output_type": "stream",
     "text": [
      "<class 'pandas.core.frame.DataFrame'>\n",
      "RangeIndex: 330961 entries, 0 to 330960\n",
      "Data columns (total 2 columns):\n",
      " #   Column    Non-Null Count   Dtype \n",
      "---  ------    --------------   ----- \n",
      " 0   FILENAME  330961 non-null  object\n",
      " 1   IDENTITY  330396 non-null  object\n",
      "dtypes: object(2)\n",
      "memory usage: 5.1+ MB\n"
     ]
    }
   ],
   "source": [
    "train.info()"
   ]
  },
  {
   "cell_type": "code",
   "execution_count": 6,
   "id": "006971fc-3975-4686-aea2-2085436dfd0b",
   "metadata": {},
   "outputs": [
    {
     "name": "stdout",
     "output_type": "stream",
     "text": [
      "<class 'pandas.core.frame.DataFrame'>\n",
      "RangeIndex: 41370 entries, 0 to 41369\n",
      "Data columns (total 2 columns):\n",
      " #   Column    Non-Null Count  Dtype \n",
      "---  ------    --------------  ----- \n",
      " 0   FILENAME  41370 non-null  object\n",
      " 1   IDENTITY  41292 non-null  object\n",
      "dtypes: object(2)\n",
      "memory usage: 646.5+ KB\n"
     ]
    }
   ],
   "source": [
    "validation.info()"
   ]
  },
  {
   "cell_type": "code",
   "execution_count": 7,
   "id": "468a33a2-daf0-42d1-bf60-ff5c2ba34e83",
   "metadata": {},
   "outputs": [
    {
     "name": "stdout",
     "output_type": "stream",
     "text": [
      "Number of Missing Values in train set      is  565\n",
      "Number of Missing Values in validation set is  78\n"
     ]
    }
   ],
   "source": [
    "print(\"Number of Missing Values in train set      is \", train['IDENTITY'].isna().sum())\n",
    "print(\"Number of Missing Values in validation set is \", validation['IDENTITY'].isna().sum())"
   ]
  },
  {
   "cell_type": "code",
   "execution_count": 8,
   "id": "91835a61-daf9-4d63-9072-802cc9bb4587",
   "metadata": {},
   "outputs": [
    {
     "name": "stdout",
     "output_type": "stream",
     "text": [
      "<class 'pandas.core.frame.DataFrame'>\n",
      "Index: 330396 entries, 0 to 330960\n",
      "Data columns (total 2 columns):\n",
      " #   Column    Non-Null Count   Dtype \n",
      "---  ------    --------------   ----- \n",
      " 0   FILENAME  330396 non-null  object\n",
      " 1   IDENTITY  330396 non-null  object\n",
      "dtypes: object(2)\n",
      "memory usage: 7.6+ MB\n"
     ]
    }
   ],
   "source": [
    "train.dropna(axis=0, inplace=True)\n",
    "validation.dropna(axis=0, inplace=True)\n",
    "train.info()"
   ]
  },
  {
   "cell_type": "code",
   "execution_count": 9,
   "id": "fe1106a1-6c80-4654-bced-8f08ac5c112e",
   "metadata": {},
   "outputs": [
    {
     "data": {
      "text/plain": [
       "IDENTITY\n",
       "THOMAS     1825\n",
       "EMPTY      1796\n",
       "LEA        1582\n",
       "EMMA       1482\n",
       "LUCAS      1479\n",
       "HUGO       1367\n",
       "CAMILLE    1367\n",
       "CLEMENT    1313\n",
       "MANON      1277\n",
       "LOUIS      1257\n",
       "Name: count, dtype: int64"
      ]
     },
     "execution_count": 9,
     "metadata": {},
     "output_type": "execute_result"
    }
   ],
   "source": [
    "train['IDENTITY'].value_counts().head(10)"
   ]
  },
  {
   "cell_type": "code",
   "execution_count": 10,
   "id": "7b4ff190-54a2-4560-8bc9-3dcac236a96d",
   "metadata": {},
   "outputs": [
    {
     "data": {
      "image/png": "[encoded data removed]",
      "text/plain": [
       "<Figure size 2000x2000 with 4 Axes>"
      ]
     },
     "metadata": {},
     "output_type": "display_data"
    }
   ],
   "source": [
    "empty_train = train[train['IDENTITY'] == 'EMPTY']\n",
    "\n",
    "plt.figure(figsize=(20, 20))\n",
    "for i in range(0,4):\n",
    "    ax = plt.subplot(2, 2, i+1)\n",
    "    image = cv2.imread('data/train/' +empty_train.iloc[i,0] , cv2.IMREAD_GRAYSCALE)\n",
    "    plt.imshow(image, cmap = 'gray')\n",
    "    plt.title(empty_train.iloc[i,1])\n",
    "    plt.axis('off')\n",
    "plt.subplots_adjust(wspace=0.2, hspace=-0.8)"
   ]
  },
  {
   "cell_type": "code",
   "execution_count": 11,
   "id": "083dc85c-ca63-42c2-a822-426b58e49a6f",
   "metadata": {},
   "outputs": [
    {
     "data": {
      "text/plain": [
       "IDENTITY\n",
       "THOMAS     1825\n",
       "LEA        1582\n",
       "EMMA       1482\n",
       "LUCAS      1479\n",
       "HUGO       1367\n",
       "CAMILLE    1367\n",
       "CLEMENT    1313\n",
       "MANON      1277\n",
       "LOUIS      1257\n",
       "THEO       1214\n",
       "Name: count, dtype: int64"
      ]
     },
     "execution_count": 11,
     "metadata": {},
     "output_type": "execute_result"
    }
   ],
   "source": [
    "train = train[train['IDENTITY'] != 'EMPTY']\n",
    "validation = validation[validation['IDENTITY'] != 'EMPTY']\n",
    "\n",
    "train['IDENTITY'].value_counts().head(10)"
   ]
  },
  {
   "cell_type": "code",
   "execution_count": 72,
   "id": "37293206-de49-422d-bf7c-e95f97d56c7c",
   "metadata": {},
   "outputs": [
    {
     "name": "stdout",
     "output_type": "stream",
     "text": [
      "Length of Longest String in IDENTITY  : 34\n"
     ]
    }
   ],
   "source": [
    "print('Length of Longest String in IDENTITY  : ' + str(train['IDENTITY'].str.len().max()))"
   ]
  },
  {
   "cell_type": "code",
   "execution_count": 12,
   "id": "5647af32-110d-474d-b963-48c40b71feaf",
   "metadata": {},
   "outputs": [
    {
     "name": "stdout",
     "output_type": "stream",
     "text": [
      "<class 'pandas.core.frame.DataFrame'>\n",
      "Index: 328600 entries, 0 to 330960\n",
      "Data columns (total 2 columns):\n",
      " #   Column    Non-Null Count   Dtype \n",
      "---  ------    --------------   ----- \n",
      " 0   FILENAME  328600 non-null  object\n",
      " 1   IDENTITY  328600 non-null  object\n",
      "dtypes: object(2)\n",
      "memory usage: 7.5+ MB\n"
     ]
    }
   ],
   "source": [
    "train.info()"
   ]
  },
  {
   "cell_type": "code",
   "execution_count": 13,
   "id": "2f749163-4b3d-40ef-9e57-087b16c60b62",
   "metadata": {},
   "outputs": [
    {
     "name": "stdout",
     "output_type": "stream",
     "text": [
      "<class 'pandas.core.frame.DataFrame'>\n",
      "Index: 41105 entries, 0 to 41369\n",
      "Data columns (total 2 columns):\n",
      " #   Column    Non-Null Count  Dtype \n",
      "---  ------    --------------  ----- \n",
      " 0   FILENAME  41105 non-null  object\n",
      " 1   IDENTITY  41105 non-null  object\n",
      "dtypes: object(2)\n",
      "memory usage: 963.4+ KB\n"
     ]
    }
   ],
   "source": [
    "validation.info()"
   ]
  },
  {
   "cell_type": "markdown",
   "id": "afaac5f2-5503-42bf-8d8a-870763f174d3",
   "metadata": {},
   "source": [
    "# Data Preprocessing"
   ]
  },
  {
   "cell_type": "code",
   "execution_count": 52,
   "id": "537bad21-f306-44d0-96e0-0805e4000fe0",
   "metadata": {},
   "outputs": [],
   "source": [
    "def format_image(image):\n",
    "    (h,w) = image.shape\n",
    "    final_image = np.ones([64, 256])*255\n",
    "    if w > 256:\n",
    "        image = image[:, :256]\n",
    "        \n",
    "    if h > 64:\n",
    "        image = image[:64, :]\n",
    "    final_image[:h,:w] = image\n",
    "    final_image = cv2.rotate(final_image, cv2.ROTATE_90_CLOCKWISE)\n",
    "    return final_image"
   ]
  },
  {
   "cell_type": "code",
   "execution_count": 38,
   "id": "6426801e-3fd2-42cb-8a84-3c0231b79ebd",
   "metadata": {},
   "outputs": [],
   "source": [
    "train.reset_index(inplace = True, drop=True) \n",
    "validation.reset_index(inplace = True, drop=True)\n",
    "\n",
    "train_size = 50000\n",
    "validation_size = 5000"
   ]
  },
  {
   "cell_type": "code",
   "execution_count": 64,
   "id": "b9805c11-2b40-45c6-8a79-9d00798f0b54",
   "metadata": {},
   "outputs": [],
   "source": [
    "train_x = []\n",
    "for i in range(train_size):\n",
    "    image = cv2.imread('data/train/' +train.iloc[1,0], cv2.IMREAD_GRAYSCALE)\n",
    "    image = format_image(image)/255\n",
    "    train_x.append(image)"
   ]
  },
  {
   "cell_type": "code",
   "execution_count": 95,
   "id": "db1cc788-b125-4ee1-a91a-e0cad1cb0708",
   "metadata": {},
   "outputs": [],
   "source": [
    "validation_x = []\n",
    "for i in range(validation_size):\n",
    "    image = cv2.imread('data/validation/' +validation.iloc[1,0], cv2.IMREAD_GRAYSCALE)\n",
    "    image = format_image(image)/255\n",
    "    train_x.append(image)"
   ]
  },
  {
   "cell_type": "code",
   "execution_count": 78,
   "id": "0d222b7c-1f56-4187-b7ed-8d60f9652d91",
   "metadata": {},
   "outputs": [],
   "source": [
    "alphabets = u\"ABCDEFGHIJKLMNOPQRSTUVWXYZ-' \"\n",
    "max_string_lenght = 34\n",
    "\n",
    "def label_to_nums(label):\n",
    "    label_num = []\n",
    "    for ch in label:\n",
    "        label_num.append(alphabets.find(ch))\n",
    "    return np.array(label_num)\n",
    "\n"
   ]
  },
  {
   "cell_type": "code",
   "execution_count": 97,
   "id": "a63777ba-2a54-4412-be31-df7d05a768fb",
   "metadata": {},
   "outputs": [],
   "source": [
    "train_y = np.ones([train_size,max_string_lenght])* -1\n",
    "validation_y = np.ones([validation_size,max_string_lenght])* -1\n",
    "for i in range(train_size):\n",
    "    train_y[i, 0:len(train.loc[i, 'IDENTITY'])]= label_to_nums(train.loc[i, 'IDENTITY'])\n",
    "\n",
    "for i in range(validation_size):\n",
    "    validation_y[i, 0:len(validation.loc[i, 'IDENTITY'])]= label_to_nums(validation.loc[i, 'IDENTITY'])"
   ]
  },
  {
   "cell_type": "code",
   "execution_count": null,
   "id": "bbfb8eb3-9e96-45f0-a597-7417dee4bc49",
   "metadata": {},
   "outputs": [],
   "source": []
  }
 ],
 "metadata": {
  "kernelspec": {
   "display_name": "Python 3 (ipykernel)",
   "language": "python",
   "name": "python3"
  },
  "language_info": {
   "codemirror_mode": {
    "name": "ipython",
    "version": 3
   },
   "file_extension": ".py",
   "mimetype": "text/x-python",
   "name": "python",
   "nbconvert_exporter": "python",
   "pygments_lexer": "ipython3",
   "version": "3.12.4"
  }
 },
 "nbformat": 4,
 "nbformat_minor": 5
}
