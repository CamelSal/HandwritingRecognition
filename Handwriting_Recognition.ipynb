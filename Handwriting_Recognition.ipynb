{
 "cells": [
  {
   "cell_type": "markdown",
   "id": "1a681f86-dd1d-40d0-9d2d-eb811b163486",
   "metadata": {},
   "source": [
    "# Handwriting Recognition: <br> World Vision Project\n",
    "\n",
    "### Camilo Salazar <br> October 7th 2024"
   ]
  },
  {
   "cell_type": "code",
   "execution_count": 6,
   "id": "4f364ef3-d93d-4a86-8d8b-a28da25818cd",
   "metadata": {},
   "outputs": [],
   "source": [
    "import numpy as np\n",
    "import pandas as pd\n",
    "import matplotlib.pyplot as plt"
   ]
  },
  {
   "cell_type": "code",
   "execution_count": 10,
   "id": "9b48a218-901b-4c86-a63b-e1e6eff50e4b",
   "metadata": {},
   "outputs": [],
   "source": [
    "train = pd.read_csv('data/written_name_train_v2.csv')"
   ]
  },
  {
   "cell_type": "code",
   "execution_count": null,
   "id": "fc967df4-5b34-4cf6-9f89-bae2ff4c3a81",
   "metadata": {},
   "outputs": [],
   "source": []
  }
 ],
 "metadata": {
  "kernelspec": {
   "display_name": "Python 3 (ipykernel)",
   "language": "python",
   "name": "python3"
  },
  "language_info": {
   "codemirror_mode": {
    "name": "ipython",
    "version": 3
   },
   "file_extension": ".py",
   "mimetype": "text/x-python",
   "name": "python",
   "nbconvert_exporter": "python",
   "pygments_lexer": "ipython3",
   "version": "3.12.4"
  }
 },
 "nbformat": 4,
 "nbformat_minor": 5
}
